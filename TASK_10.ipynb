{
  "nbformat": 4,
  "nbformat_minor": 0,
  "metadata": {
    "colab": {
      "name": "TASK 10.ipynb",
      "provenance": [],
      "include_colab_link": true
    },
    "kernelspec": {
      "name": "python3",
      "display_name": "Python 3"
    },
    "language_info": {
      "name": "python"
    }
  },
  "cells": [
    {
      "cell_type": "markdown",
      "metadata": {
        "id": "view-in-github",
        "colab_type": "text"
      },
      "source": [
        "<a href=\"https://colab.research.google.com/github/AdithyaAjayakumar/learn.py/blob/main/TASK_10.ipynb\" target=\"_parent\"><img src=\"https://colab.research.google.com/assets/colab-badge.svg\" alt=\"Open In Colab\"/></a>"
      ]
    },
    {
      "cell_type": "markdown",
      "metadata": {
        "id": "VHKxwUewxOi2"
      },
      "source": [
        "1. Generate two  3 x 3 matrix and find it's dot product and take the transpose of the answer."
      ]
    },
    {
      "cell_type": "code",
      "metadata": {
        "id": "RdyKd1CAxZtR",
        "outputId": "6ff095ac-74fa-4481-d738-d0596a9ae27d",
        "colab": {
          "base_uri": "https://localhost:8080/"
        }
      },
      "source": [
        "#please provide your answer below this line.\n",
        "import numpy as np\n",
        "\n",
        "M1 = np.array([[3, 6, 7], [5, 4, 6], [2, 3, 4]])\n",
        "M2 = np.array([[9, 8, 3], [1, 2, 8], [6, 9, 2]])\n",
        "M3 = M1.dot(M2)  \n",
        "print(\"DOT PRODUCT\")\n",
        "print(M3)\n",
        "print(\"TRANSPOSE\")\n",
        "M4 = M3.transpose()\n",
        "print(M4)"
      ],
      "execution_count": 1,
      "outputs": [
        {
          "output_type": "stream",
          "text": [
            "DOT PRODUCT\n",
            "[[ 75  99  71]\n",
            " [ 85 102  59]\n",
            " [ 45  58  38]]\n",
            "TRANSPOSE\n",
            "[[ 75  85  45]\n",
            " [ 99 102  58]\n",
            " [ 71  59  38]]\n"
          ],
          "name": "stdout"
        }
      ]
    },
    {
      "cell_type": "markdown",
      "metadata": {
        "id": "9c9ZwiBxxf4t"
      },
      "source": [
        "2. Create a 3x3 matrix with elements [55,25,15], [30,44,2], [11,45,77] . Now find the determinant of the given matrix."
      ]
    },
    {
      "cell_type": "code",
      "metadata": {
        "id": "Anmr3C9KyNyy",
        "outputId": "c4f6aba6-1f58-418b-ac24-5ccfe44ab977",
        "colab": {
          "base_uri": "https://localhost:8080/"
        }
      },
      "source": [
        "#please provide your answer below this line.\n",
        "import numpy as np\n",
        "\n",
        "M1 = np.array([[55, 25, 15], [30, 44, 2], [11, 45, 77]])\n",
        "print(M1)\n",
        "A=np.linalg.det(M1)\n",
        "print(\"determinant\")\n",
        "print(A)\n",
        "b=round(np.linalg.det(M1))\n",
        "print(b)"
      ],
      "execution_count": 2,
      "outputs": [
        {
          "output_type": "stream",
          "text": [
            "[[55 25 15]\n",
            " [30 44  2]\n",
            " [11 45 77]]\n",
            "determinant\n",
            "137180.0000000001\n",
            "137180\n"
          ],
          "name": "stdout"
        }
      ]
    }
  ]
}