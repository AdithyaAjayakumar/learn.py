{
  "nbformat": 4,
  "nbformat_minor": 0,
  "metadata": {
    "colab": {
      "name": "TASK 8.ipynb",
      "provenance": [],
      "include_colab_link": true
    },
    "kernelspec": {
      "name": "python3",
      "display_name": "Python 3"
    },
    "language_info": {
      "name": "python"
    }
  },
  "cells": [
    {
      "cell_type": "markdown",
      "metadata": {
        "id": "view-in-github",
        "colab_type": "text"
      },
      "source": [
        "<a href=\"https://colab.research.google.com/github/AdithyaAjayakumar/learn.py/blob/main/TASK_8.ipynb\" target=\"_parent\"><img src=\"https://colab.research.google.com/assets/colab-badge.svg\" alt=\"Open In Colab\"/></a>"
      ]
    },
    {
      "cell_type": "markdown",
      "metadata": {
        "id": "slsGswYbJSo7"
      },
      "source": [
        "1. Generate a 3 x 3 matrix using random module."
      ]
    },
    {
      "cell_type": "code",
      "metadata": {
        "id": "GGRQSYyNJW9t",
        "colab": {
          "base_uri": "https://localhost:8080/"
        },
        "outputId": "64cd9815-3de9-43dc-8b08-c8c078e8e597"
      },
      "source": [
        "#please provide your answer below this line.\n",
        "import numpy as np\n",
        "matrix= np.random.randint(13, size=(3, 3))\n",
        "print(matrix)"
      ],
      "execution_count": 2,
      "outputs": [
        {
          "output_type": "stream",
          "text": [
            "[[6 3 0]\n",
            " [8 5 7]\n",
            " [5 3 3]]\n"
          ],
          "name": "stdout"
        }
      ]
    },
    {
      "cell_type": "markdown",
      "metadata": {
        "id": "4OB9KFX6JfYA"
      },
      "source": [
        "2. Generate two 4 x 4 matrix using numpy and \n",
        "\n",
        " a) Reshape it to 2 x 8matrix and vertically stack it.\n",
        "\n",
        " b) Reshape it to 2 x 8 matrix and horizontally stack it."
      ]
    },
    {
      "cell_type": "code",
      "metadata": {
        "id": "VoIqYeNWJ4H_",
        "colab": {
          "base_uri": "https://localhost:8080/"
        },
        "outputId": "b47121f0-1bf1-497f-d90a-242f4d159a50"
      },
      "source": [
        "#please provide your answer below this line.\n",
        "import numpy as np\n",
        "a1 = np.array([[1, 2, 3, 4], \n",
        "    [5, 6, 7, 8],\n",
        "    [9, 10, 11, 12],\n",
        "    [13, 14, 15, 16]])\n",
        "print(\"A1\")\n",
        "print(a1)\n",
        "print(\"\\n\")\n",
        "a1 = np.arange(1, 17).reshape(2, -1)\n",
        "print(a1)\n",
        "print(\"\\n\")\n",
        "a2 = np.array([[1, 2, 3, 4], \n",
        "    [5, 6, 7, 8],\n",
        "    [9, 10, 11, 12],\n",
        "    [13, 14, 15, 16]])\n",
        "print(\"A2\")\n",
        "print(a2)\n",
        "a2 = np.arange(1, 17).reshape(2, -1)\n",
        "print(\"\\n\")\n",
        "print(a2)\n",
        "x = np.array([1, 2, 3, 4, 5, 6, 7, 8])\n",
        "y = np.array([9, 10, 11, 12, 13, 14, 15, 16])\n",
        "print('Vertically stacked array:\\n', np.vstack((x, y)))\n",
        "print(\"\\n\")\n",
        "print('horizontally stacked array:\\n', np.hstack((x, y)))"
      ],
      "execution_count": 1,
      "outputs": [
        {
          "output_type": "stream",
          "text": [
            "A1\n",
            "[[ 1  2  3  4]\n",
            " [ 5  6  7  8]\n",
            " [ 9 10 11 12]\n",
            " [13 14 15 16]]\n",
            "\n",
            "\n",
            "[[ 1  2  3  4  5  6  7  8]\n",
            " [ 9 10 11 12 13 14 15 16]]\n",
            "\n",
            "\n",
            "A2\n",
            "[[ 1  2  3  4]\n",
            " [ 5  6  7  8]\n",
            " [ 9 10 11 12]\n",
            " [13 14 15 16]]\n",
            "\n",
            "\n",
            "[[ 1  2  3  4  5  6  7  8]\n",
            " [ 9 10 11 12 13 14 15 16]]\n",
            "Vertically stacked array:\n",
            " [[ 1  2  3  4  5  6  7  8]\n",
            " [ 9 10 11 12 13 14 15 16]]\n",
            "\n",
            "\n",
            "horizontally stacked array:\n",
            " [ 1  2  3  4  5  6  7  8  9 10 11 12 13 14 15 16]\n"
          ],
          "name": "stdout"
        }
      ]
    }
  ]
}