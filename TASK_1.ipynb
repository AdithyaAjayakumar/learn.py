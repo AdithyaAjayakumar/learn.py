{
  "nbformat": 4,
  "nbformat_minor": 0,
  "metadata": {
    "colab": {
      "name": "TASK 1",
      "provenance": [],
      "include_colab_link": true
    },
    "kernelspec": {
      "name": "python3",
      "display_name": "Python 3"
    },
    "language_info": {
      "name": "python"
    }
  },
  "cells": [
    {
      "cell_type": "markdown",
      "metadata": {
        "id": "view-in-github",
        "colab_type": "text"
      },
      "source": [
        "<a href=\"https://colab.research.google.com/github/AdithyaAjayakumar/learn.py/blob/main/TASK_1.ipynb\" target=\"_parent\"><img src=\"https://colab.research.google.com/assets/colab-badge.svg\" alt=\"Open In Colab\"/></a>"
      ]
    },
    {
      "cell_type": "markdown",
      "metadata": {
        "id": "q-yWxfWESiQo"
      },
      "source": [
        "1.Write a program that uses input to prompt a user for their name and then welcomes them."
      ]
    },
    {
      "cell_type": "code",
      "metadata": {
        "id": "9ikpRxqMSxu0",
        "colab": {
          "base_uri": "https://localhost:8080/"
        },
        "outputId": "b3b4b7b5-75ee-4667-cb92-1d78f9daf5bb"
      },
      "source": [
        "#please provide your answer here below this line\n",
        "x=input('enter your name:')\n",
        "print('hello',x)\n",
        "print('welcome')"
      ],
      "execution_count": 2,
      "outputs": [
        {
          "output_type": "stream",
          "text": [
            "enter your name:Adithya\n",
            "hello Adithya\n",
            "welcome\n"
          ],
          "name": "stdout"
        }
      ]
    },
    {
      "cell_type": "markdown",
      "metadata": {
        "id": "Ay5OdxguS-2Z"
      },
      "source": [
        "2.Write a program which prompts the user for a Celsius temperature, convert the temperature to Fahrenheit, and print out the converted temperature."
      ]
    },
    {
      "cell_type": "code",
      "metadata": {
        "id": "MMv2yWNtTgEu",
        "colab": {
          "base_uri": "https://localhost:8080/"
        },
        "outputId": "8befba11-5007-4e8d-ac55-627abcc00dc6"
      },
      "source": [
        "#ease provide your answer here below this line\n",
        "celsius=(float(input(\"celsius:\")))\n",
        "fahrenheit=(celsius*1.8)+32\n",
        "print(\"%.2f celsius=%.2f fahrenheit\"%(celsius,fahrenheit))"
      ],
      "execution_count": 3,
      "outputs": [
        {
          "output_type": "stream",
          "text": [
            "celsius:0\n",
            "0.00 celsius=32.00 fahrenheit\n"
          ],
          "name": "stdout"
        }
      ]
    },
    {
      "cell_type": "markdown",
      "metadata": {
        "id": "v6O1a198TpNd"
      },
      "source": [
        "3.Write a Python program to convert degree to radian."
      ]
    },
    {
      "cell_type": "code",
      "metadata": {
        "id": "27Jj4_D0UQBA",
        "colab": {
          "base_uri": "https://localhost:8080/"
        },
        "outputId": "0dd52477-e3e7-4e7e-b1e2-ab3af7427b68"
      },
      "source": [
        "#please provide your answer here below this line\n",
        "pi=22/7\n",
        "degree=float(input(\"input in degree:\"))\n",
        "radian=degree*(pi/180)\n",
        "print(\"the value in radian is:\",radian)\n"
      ],
      "execution_count": 4,
      "outputs": [
        {
          "output_type": "stream",
          "text": [
            "input in degree:90\n",
            "the value in radian is: 1.5714285714285714\n"
          ],
          "name": "stdout"
        }
      ]
    }
  ]
}